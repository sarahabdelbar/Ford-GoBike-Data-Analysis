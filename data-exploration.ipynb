{
 "cells": [
  {
   "cell_type": "markdown",
   "metadata": {},
   "source": [
    "# Ford GoBike Data Exploration\n",
    "##### by Sarah Abdelbar\n",
    "\n",
    "## Preliminary Wrangling\n",
    "\n",
    "> In the hope of reducing pollution in our surrounding environment, there has been an ongoing trend for bike sharing systems over the past few years. These systems allow users to rent bikes around specified stations throughout the city. This does not only serve citizens but also tourists who want to roam around the city, sightseeing, without having to walk around all day. \n",
    "Thanks to the smart technologies, we are able to gather the data from these systems to analyze it and answers some interesting reserach questions and communicate the findings to further enhance this business."
   ]
  },
  {
   "cell_type": "code",
   "execution_count": 1,
   "metadata": {},
   "outputs": [],
   "source": [
    "# import all packages and set plots to be embedded inline\n",
    "import numpy as np\n",
    "import pandas as pd\n",
    "import matplotlib.pyplot as plt\n",
    "import seaborn as sb\n",
    "import zipfile\n",
    "import glob\n",
    "import os\n",
    "%matplotlib inline"
   ]
  },
  {
   "cell_type": "markdown",
   "metadata": {},
   "source": [
    "> The data was extracted from this link http://s3.amazonaws.com/fordgobike-data\n",
    "? All zip folders were then transformed into CSV and then I used the below code to merge all data and create one dataset"
   ]
  },
  {
   "cell_type": "code",
   "execution_count": 2,
   "metadata": {},
   "outputs": [
    {
     "name": "stderr",
     "output_type": "stream",
     "text": [
      "b'Skipping line 315503: expected 16 fields, saw 24\\n'\n"
     ]
    }
   ],
   "source": [
    "jan= pd.read_csv('201801-fordgobike-tripdata.csv')\n",
    "feb = pd.read_csv('201802-fordgobike-tripdata.csv')\n",
    "march = pd.read_csv('201803-fordgobike-tripdata.csv')\n",
    "april = pd.read_csv('201804-fordgobike-tripdata.csv')\n",
    "may = pd.read_csv('201805-fordgobike-tripdata.csv')\n",
    "june = pd.read_csv('201806-fordgobike-tripdata.csv')\n",
    "july = pd.read_csv('201807-fordgobike-tripdata.csv',error_bad_lines=False, low_memory=False)\n",
    "august = pd.read_csv('201808-fordgobike-tripdata.csv',error_bad_lines=False, low_memory=False)\n",
    "september = pd.read_csv('201809-fordgobike-tripdata.csv',error_bad_lines=False, low_memory=False)\n",
    "october = pd.read_csv('201810-fordgobike-tripdata.csv',error_bad_lines=False, low_memory=False)\n",
    "november = pd.read_csv('201811-fordgobike-tripdata.csv',error_bad_lines=False, low_memory=False)\n",
    "december = pd.read_csv('201812-fordgobike-tripdata.csv',error_bad_lines=False, low_memory=False)"
   ]
  },
  {
   "cell_type": "code",
   "execution_count": 3,
   "metadata": {},
   "outputs": [],
   "source": [
    "#merging all data into one\n",
    "all_filenames= [jan, feb, march, april, may, june, july, august, september, october, november, december]\n",
    "combined_csv = pd.concat(all_filenames)\n",
    "combined_csv.to_csv( \"combined_csv.csv\", index=False, encoding='utf-8-sig')"
   ]
  },
  {
   "cell_type": "code",
   "execution_count": 4,
   "metadata": {},
   "outputs": [
    {
     "name": "stderr",
     "output_type": "stream",
     "text": [
      "C:\\Users\\sabdelb\\Anaconda3\\lib\\site-packages\\IPython\\core\\interactiveshell.py:3071: DtypeWarning: Columns (5,6,9,11) have mixed types.Specify dtype option on import or set low_memory=False.\n",
      "  has_raised = await self.run_ast_nodes(code_ast.body, cell_name,\n"
     ]
    }
   ],
   "source": [
    "df = pd.read_csv('combined_csv.csv')"
   ]
  },
  {
   "cell_type": "code",
   "execution_count": 5,
   "metadata": {},
   "outputs": [
    {
     "name": "stdout",
     "output_type": "stream",
     "text": [
      "<class 'pandas.core.frame.DataFrame'>\n",
      "RangeIndex: 2023431 entries, 0 to 2023430\n",
      "Data columns (total 16 columns):\n",
      " #   Column                   Dtype  \n",
      "---  ------                   -----  \n",
      " 0   duration_sec             float64\n",
      " 1   start_time               object \n",
      " 2   end_time                 object \n",
      " 3   start_station_id         float64\n",
      " 4   start_station_name       object \n",
      " 5   start_station_latitude   object \n",
      " 6   start_station_longitude  object \n",
      " 7   end_station_id           float64\n",
      " 8   end_station_name         object \n",
      " 9   end_station_latitude     object \n",
      " 10  end_station_longitude    float64\n",
      " 11  bike_id                  object \n",
      " 12  user_type                object \n",
      " 13  member_birth_year        float64\n",
      " 14  member_gender            object \n",
      " 15  bike_share_for_all_trip  object \n",
      "dtypes: float64(5), object(11)\n",
      "memory usage: 247.0+ MB\n"
     ]
    }
   ],
   "source": [
    "df.info()"
   ]
  },
  {
   "cell_type": "code",
   "execution_count": 6,
   "metadata": {},
   "outputs": [
    {
     "data": {
      "text/html": [
       "<div>\n",
       "<style scoped>\n",
       "    .dataframe tbody tr th:only-of-type {\n",
       "        vertical-align: middle;\n",
       "    }\n",
       "\n",
       "    .dataframe tbody tr th {\n",
       "        vertical-align: top;\n",
       "    }\n",
       "\n",
       "    .dataframe thead th {\n",
       "        text-align: right;\n",
       "    }\n",
       "</style>\n",
       "<table border=\"1\" class=\"dataframe\">\n",
       "  <thead>\n",
       "    <tr style=\"text-align: right;\">\n",
       "      <th></th>\n",
       "      <th>duration_sec</th>\n",
       "      <th>start_time</th>\n",
       "      <th>end_time</th>\n",
       "      <th>start_station_id</th>\n",
       "      <th>start_station_name</th>\n",
       "      <th>start_station_latitude</th>\n",
       "      <th>start_station_longitude</th>\n",
       "      <th>end_station_id</th>\n",
       "      <th>end_station_name</th>\n",
       "      <th>end_station_latitude</th>\n",
       "      <th>end_station_longitude</th>\n",
       "      <th>bike_id</th>\n",
       "      <th>user_type</th>\n",
       "      <th>member_birth_year</th>\n",
       "      <th>member_gender</th>\n",
       "      <th>bike_share_for_all_trip</th>\n",
       "    </tr>\n",
       "  </thead>\n",
       "  <tbody>\n",
       "    <tr>\n",
       "      <th>1465388</th>\n",
       "      <td>777.0</td>\n",
       "      <td>2018-09-16 10:47:25.9500</td>\n",
       "      <td>2018-09-16 11:00:23.2370</td>\n",
       "      <td>240.0</td>\n",
       "      <td>Haste St at Telegraph Ave</td>\n",
       "      <td>37.866</td>\n",
       "      <td>-122.259</td>\n",
       "      <td>262.0</td>\n",
       "      <td>West St at University Ave</td>\n",
       "      <td>37.87</td>\n",
       "      <td>-122.286533</td>\n",
       "      <td>1533</td>\n",
       "      <td>Subscriber</td>\n",
       "      <td>1991.0</td>\n",
       "      <td>Female</td>\n",
       "      <td>No</td>\n",
       "    </tr>\n",
       "    <tr>\n",
       "      <th>1572533</th>\n",
       "      <td>472.0</td>\n",
       "      <td>2018-10-29 18:40:11.1890</td>\n",
       "      <td>2018-10-29 18:48:03.3390</td>\n",
       "      <td>341.0</td>\n",
       "      <td>Fountain Alley at S 2nd St</td>\n",
       "      <td>37.3362</td>\n",
       "      <td>-121.889</td>\n",
       "      <td>296.0</td>\n",
       "      <td>5th St at Virginia St</td>\n",
       "      <td>37.326</td>\n",
       "      <td>-121.877120</td>\n",
       "      <td>1621</td>\n",
       "      <td>Subscriber</td>\n",
       "      <td>1993.0</td>\n",
       "      <td>Male</td>\n",
       "      <td>Yes</td>\n",
       "    </tr>\n",
       "    <tr>\n",
       "      <th>773059</th>\n",
       "      <td>572.0</td>\n",
       "      <td>2018-06-07 23:35:15.8640</td>\n",
       "      <td>2018-06-07 23:44:48.3800</td>\n",
       "      <td>89.0</td>\n",
       "      <td>Division St at Potrero Ave</td>\n",
       "      <td>37.7692</td>\n",
       "      <td>-122.408</td>\n",
       "      <td>43.0</td>\n",
       "      <td>San Francisco Public Library (Grove St at Hyde...</td>\n",
       "      <td>37.7788</td>\n",
       "      <td>-122.415929</td>\n",
       "      <td>2723</td>\n",
       "      <td>Subscriber</td>\n",
       "      <td>1980.0</td>\n",
       "      <td>Male</td>\n",
       "      <td>Yes</td>\n",
       "    </tr>\n",
       "    <tr>\n",
       "      <th>1587946</th>\n",
       "      <td>722.0</td>\n",
       "      <td>2018-10-26 17:01:22.9180</td>\n",
       "      <td>2018-10-26 17:13:25.2720</td>\n",
       "      <td>350.0</td>\n",
       "      <td>8th St at Brannan St</td>\n",
       "      <td>37.7714</td>\n",
       "      <td>-122.406</td>\n",
       "      <td>15.0</td>\n",
       "      <td>San Francisco Ferry Building (Harry Bridges Pl...</td>\n",
       "      <td>37.7954</td>\n",
       "      <td>-122.394203</td>\n",
       "      <td>38</td>\n",
       "      <td>Customer</td>\n",
       "      <td>1981.0</td>\n",
       "      <td>Male</td>\n",
       "      <td>No</td>\n",
       "    </tr>\n",
       "    <tr>\n",
       "      <th>1382255</th>\n",
       "      <td>844.0</td>\n",
       "      <td>2018-09-28 15:33:46.4890</td>\n",
       "      <td>2018-09-28 15:47:50.9500</td>\n",
       "      <td>21.0</td>\n",
       "      <td>Montgomery St BART Station (Market St at 2nd St)</td>\n",
       "      <td>37.7896</td>\n",
       "      <td>-122.401</td>\n",
       "      <td>81.0</td>\n",
       "      <td>Berry St at 4th St</td>\n",
       "      <td>37.7759</td>\n",
       "      <td>-122.393170</td>\n",
       "      <td>433</td>\n",
       "      <td>Subscriber</td>\n",
       "      <td>1983.0</td>\n",
       "      <td>Female</td>\n",
       "      <td>No</td>\n",
       "    </tr>\n",
       "  </tbody>\n",
       "</table>\n",
       "</div>"
      ],
      "text/plain": [
       "         duration_sec                start_time                  end_time  \\\n",
       "1465388         777.0  2018-09-16 10:47:25.9500  2018-09-16 11:00:23.2370   \n",
       "1572533         472.0  2018-10-29 18:40:11.1890  2018-10-29 18:48:03.3390   \n",
       "773059          572.0  2018-06-07 23:35:15.8640  2018-06-07 23:44:48.3800   \n",
       "1587946         722.0  2018-10-26 17:01:22.9180  2018-10-26 17:13:25.2720   \n",
       "1382255         844.0  2018-09-28 15:33:46.4890  2018-09-28 15:47:50.9500   \n",
       "\n",
       "         start_station_id                                start_station_name  \\\n",
       "1465388             240.0                         Haste St at Telegraph Ave   \n",
       "1572533             341.0                        Fountain Alley at S 2nd St   \n",
       "773059               89.0                        Division St at Potrero Ave   \n",
       "1587946             350.0                              8th St at Brannan St   \n",
       "1382255              21.0  Montgomery St BART Station (Market St at 2nd St)   \n",
       "\n",
       "        start_station_latitude start_station_longitude  end_station_id  \\\n",
       "1465388                 37.866                -122.259           262.0   \n",
       "1572533                37.3362                -121.889           296.0   \n",
       "773059                 37.7692                -122.408            43.0   \n",
       "1587946                37.7714                -122.406            15.0   \n",
       "1382255                37.7896                -122.401            81.0   \n",
       "\n",
       "                                          end_station_name  \\\n",
       "1465388                          West St at University Ave   \n",
       "1572533                              5th St at Virginia St   \n",
       "773059   San Francisco Public Library (Grove St at Hyde...   \n",
       "1587946  San Francisco Ferry Building (Harry Bridges Pl...   \n",
       "1382255                                 Berry St at 4th St   \n",
       "\n",
       "        end_station_latitude  end_station_longitude bike_id   user_type  \\\n",
       "1465388                37.87            -122.286533    1533  Subscriber   \n",
       "1572533               37.326            -121.877120    1621  Subscriber   \n",
       "773059               37.7788            -122.415929    2723  Subscriber   \n",
       "1587946              37.7954            -122.394203      38    Customer   \n",
       "1382255              37.7759            -122.393170     433  Subscriber   \n",
       "\n",
       "         member_birth_year member_gender bike_share_for_all_trip  \n",
       "1465388             1991.0        Female                      No  \n",
       "1572533             1993.0          Male                     Yes  \n",
       "773059              1980.0          Male                     Yes  \n",
       "1587946             1981.0          Male                      No  \n",
       "1382255             1983.0        Female                      No  "
      ]
     },
     "execution_count": 6,
     "metadata": {},
     "output_type": "execute_result"
    }
   ],
   "source": [
    "df.sample(5)"
   ]
  },
  {
   "cell_type": "markdown",
   "metadata": {},
   "source": [
    "### What is the structure of your dataset?\n",
    "\n",
    "> The dataset includes details about the trips completed in 2018 including the duration, start point, end point, as well some information about the user, like their birth date, gender and whether they are subscribers or customers.\n",
    "\n",
    "### What is/are the main feature(s) of interest in your dataset?\n",
    "\n",
    "> From an initial look at the data, post the data wrangling process, some potential questions might be raised concerning the age groups of users, the gender split and the behavior of each group on a monthy, weekly, and hourly basis. Such analysis can help this business become more relevant, useful and up-to-date with its right target audience.\n",
    "\n",
    "### What features in the dataset do you think will help support your investigation into your feature(s) of interest?\n",
    "\n",
    "> The different columns of this dataset will be cleaned and analyzed in order to reach the optimum answer to points of interest. So far, the dataset looks detailed, although some information like members age are not given but can easily be derived from the information provided. "
   ]
  },
  {
   "cell_type": "markdown",
   "metadata": {},
   "source": [
    "## Data Assessment"
   ]
  },
  {
   "cell_type": "code",
   "execution_count": 7,
   "metadata": {},
   "outputs": [
    {
     "name": "stdout",
     "output_type": "stream",
     "text": [
      "<class 'pandas.core.frame.DataFrame'>\n",
      "RangeIndex: 2023431 entries, 0 to 2023430\n",
      "Data columns (total 16 columns):\n",
      " #   Column                   Dtype  \n",
      "---  ------                   -----  \n",
      " 0   duration_sec             float64\n",
      " 1   start_time               object \n",
      " 2   end_time                 object \n",
      " 3   start_station_id         float64\n",
      " 4   start_station_name       object \n",
      " 5   start_station_latitude   object \n",
      " 6   start_station_longitude  object \n",
      " 7   end_station_id           float64\n",
      " 8   end_station_name         object \n",
      " 9   end_station_latitude     object \n",
      " 10  end_station_longitude    float64\n",
      " 11  bike_id                  object \n",
      " 12  user_type                object \n",
      " 13  member_birth_year        float64\n",
      " 14  member_gender            object \n",
      " 15  bike_share_for_all_trip  object \n",
      "dtypes: float64(5), object(11)\n",
      "memory usage: 247.0+ MB\n"
     ]
    }
   ],
   "source": [
    "#An initial look at the dataset and the types of data we will be dealing with\n",
    "df.info()"
   ]
  },
  {
   "cell_type": "markdown",
   "metadata": {},
   "source": [
    "Quality & Tidiness issues\n",
    "\n",
    "1) In order to be able to perform analysis using the month, day and hours, we need to derive such information from the start time of the trip\n",
    "\n",
    "2) Start and end times should be of timestamp type instead of object (so the needed information can be easily derived)\n",
    "\n",
    "3) All ID columns (start_station_id, end_station_id, bike_id) should be of type object instead of integer as they are not going to be used in any mathematical calculations\n",
    "\n",
    "4) User information like type and gender needs to be converted to category so we can use them in categorial analysis\n",
    "\n",
    "> One more useful step after the cleaning, is to calculate the members age in a seperate column from the date of birth, we might later need to classify all users to age groups for easier analysis.\n"
   ]
  },
  {
   "cell_type": "markdown",
   "metadata": {},
   "source": [
    "## Data Cleaning & Testing"
   ]
  },
  {
   "cell_type": "code",
   "execution_count": 8,
   "metadata": {
    "scrolled": true
   },
   "outputs": [],
   "source": [
    "## First things first, we need to create a copy from the original dataset\n",
    "df_final = df.copy()"
   ]
  },
  {
   "cell_type": "code",
   "execution_count": 9,
   "metadata": {},
   "outputs": [],
   "source": [
    "#Dropping NA values to have smaller and cleaner data and to avoid errors in the calculations\n",
    "df_final= df_final.dropna()"
   ]
  },
  {
   "cell_type": "code",
   "execution_count": 10,
   "metadata": {},
   "outputs": [],
   "source": [
    "# changing start and end times to datetime\n",
    "df_final.end_time = pd.to_datetime(df_final.end_time, errors='coerce')\n",
    "df_final.start_time = pd.to_datetime(df_final.start_time, errors='coerce')"
   ]
  },
  {
   "cell_type": "code",
   "execution_count": 11,
   "metadata": {
    "scrolled": true
   },
   "outputs": [
    {
     "name": "stdout",
     "output_type": "stream",
     "text": [
      "<class 'pandas.core.frame.DataFrame'>\n",
      "Int64Index: 1888773 entries, 0 to 2023429\n",
      "Data columns (total 16 columns):\n",
      " #   Column                   Non-Null Count    Dtype         \n",
      "---  ------                   --------------    -----         \n",
      " 0   duration_sec             1888773 non-null  float64       \n",
      " 1   start_time               1888773 non-null  datetime64[ns]\n",
      " 2   end_time                 1888773 non-null  datetime64[ns]\n",
      " 3   start_station_id         1888773 non-null  float64       \n",
      " 4   start_station_name       1888773 non-null  object        \n",
      " 5   start_station_latitude   1888773 non-null  object        \n",
      " 6   start_station_longitude  1888773 non-null  object        \n",
      " 7   end_station_id           1888773 non-null  float64       \n",
      " 8   end_station_name         1888773 non-null  object        \n",
      " 9   end_station_latitude     1888773 non-null  object        \n",
      " 10  end_station_longitude    1888773 non-null  float64       \n",
      " 11  bike_id                  1888773 non-null  object        \n",
      " 12  user_type                1888773 non-null  object        \n",
      " 13  member_birth_year        1888773 non-null  float64       \n",
      " 14  member_gender            1888773 non-null  object        \n",
      " 15  bike_share_for_all_trip  1888773 non-null  object        \n",
      "dtypes: datetime64[ns](2), float64(5), object(9)\n",
      "memory usage: 245.0+ MB\n"
     ]
    }
   ],
   "source": [
    "#Taking another look at the data as a testing step\n",
    "df_final.info(verbose=True, null_counts=True)"
   ]
  },
  {
   "cell_type": "code",
   "execution_count": 12,
   "metadata": {},
   "outputs": [],
   "source": [
    "# Dividing the datetime column to Month, Day, and hour\n",
    "df_final['start_time_month']=df_final['start_time'].dt.month.astype(int)\n",
    "df_final['start_time_day']=df_final['start_time'].dt.day.astype(int)\n",
    "df_final['start_time_hour']=df_final['start_time'].dt.hour\n",
    "df_final['start_day_name']=df_final['start_time'].dt.strftime('%a')\n",
    "df_final['start_month_name']=df_final['start_time'].dt.strftime('%B')"
   ]
  },
  {
   "cell_type": "code",
   "execution_count": 13,
   "metadata": {},
   "outputs": [],
   "source": [
    "# converting id columns to object (string) instead of integers\n",
    "df_final.bike_id = df_final.bike_id.astype(str)\n",
    "df_final.start_station_id = df_final.bike_id.astype(str)\n",
    "df_final.end_station_id = df_final.bike_id.astype(str)"
   ]
  },
  {
   "cell_type": "code",
   "execution_count": 14,
   "metadata": {},
   "outputs": [],
   "source": [
    "# converting user info to category instead of object\n",
    "df_final.member_gender = df_final.member_gender.astype('category')\n",
    "df_final.user_type = df_final.user_type.astype('category')"
   ]
  },
  {
   "cell_type": "code",
   "execution_count": 15,
   "metadata": {},
   "outputs": [],
   "source": [
    "# adding a column with member age calculation from the year of birth\n",
    "df_final['member_age']= 2020 - df_final['member_birth_year']"
   ]
  },
  {
   "cell_type": "code",
   "execution_count": 16,
   "metadata": {
    "scrolled": true
   },
   "outputs": [
    {
     "data": {
      "text/html": [
       "<div>\n",
       "<style scoped>\n",
       "    .dataframe tbody tr th:only-of-type {\n",
       "        vertical-align: middle;\n",
       "    }\n",
       "\n",
       "    .dataframe tbody tr th {\n",
       "        vertical-align: top;\n",
       "    }\n",
       "\n",
       "    .dataframe thead th {\n",
       "        text-align: right;\n",
       "    }\n",
       "</style>\n",
       "<table border=\"1\" class=\"dataframe\">\n",
       "  <thead>\n",
       "    <tr style=\"text-align: right;\">\n",
       "      <th></th>\n",
       "      <th>duration_sec</th>\n",
       "      <th>start_time</th>\n",
       "      <th>end_time</th>\n",
       "      <th>start_station_id</th>\n",
       "      <th>start_station_name</th>\n",
       "      <th>start_station_latitude</th>\n",
       "      <th>start_station_longitude</th>\n",
       "      <th>end_station_id</th>\n",
       "      <th>end_station_name</th>\n",
       "      <th>end_station_latitude</th>\n",
       "      <th>...</th>\n",
       "      <th>user_type</th>\n",
       "      <th>member_birth_year</th>\n",
       "      <th>member_gender</th>\n",
       "      <th>bike_share_for_all_trip</th>\n",
       "      <th>start_time_month</th>\n",
       "      <th>start_time_day</th>\n",
       "      <th>start_time_hour</th>\n",
       "      <th>start_day_name</th>\n",
       "      <th>start_month_name</th>\n",
       "      <th>member_age</th>\n",
       "    </tr>\n",
       "  </thead>\n",
       "  <tbody>\n",
       "    <tr>\n",
       "      <th>1680225</th>\n",
       "      <td>233.0</td>\n",
       "      <td>2018-10-12 09:58:37.257</td>\n",
       "      <td>2018-10-12 10:02:31.003</td>\n",
       "      <td>1547</td>\n",
       "      <td>Embarcadero BART Station (Beale St at Market St)</td>\n",
       "      <td>37.7923</td>\n",
       "      <td>-122.397</td>\n",
       "      <td>1547</td>\n",
       "      <td>The Embarcadero at Steuart St</td>\n",
       "      <td>37.7915</td>\n",
       "      <td>...</td>\n",
       "      <td>Subscriber</td>\n",
       "      <td>1983.0</td>\n",
       "      <td>Male</td>\n",
       "      <td>Yes</td>\n",
       "      <td>10</td>\n",
       "      <td>12</td>\n",
       "      <td>9</td>\n",
       "      <td>Fri</td>\n",
       "      <td>October</td>\n",
       "      <td>37.0</td>\n",
       "    </tr>\n",
       "    <tr>\n",
       "      <th>886457</th>\n",
       "      <td>493.0</td>\n",
       "      <td>2018-07-21 15:33:44.530</td>\n",
       "      <td>2018-07-21 15:41:57.763</td>\n",
       "      <td>2572</td>\n",
       "      <td>17th St at Valencia St</td>\n",
       "      <td>37.7633</td>\n",
       "      <td>-122.422</td>\n",
       "      <td>2572</td>\n",
       "      <td>Jackson Playground</td>\n",
       "      <td>37.765</td>\n",
       "      <td>...</td>\n",
       "      <td>Customer</td>\n",
       "      <td>1994.0</td>\n",
       "      <td>Female</td>\n",
       "      <td>No</td>\n",
       "      <td>7</td>\n",
       "      <td>21</td>\n",
       "      <td>15</td>\n",
       "      <td>Sat</td>\n",
       "      <td>July</td>\n",
       "      <td>26.0</td>\n",
       "    </tr>\n",
       "  </tbody>\n",
       "</table>\n",
       "<p>2 rows × 22 columns</p>\n",
       "</div>"
      ],
      "text/plain": [
       "         duration_sec              start_time                end_time  \\\n",
       "1680225         233.0 2018-10-12 09:58:37.257 2018-10-12 10:02:31.003   \n",
       "886457          493.0 2018-07-21 15:33:44.530 2018-07-21 15:41:57.763   \n",
       "\n",
       "        start_station_id                                start_station_name  \\\n",
       "1680225             1547  Embarcadero BART Station (Beale St at Market St)   \n",
       "886457              2572                            17th St at Valencia St   \n",
       "\n",
       "        start_station_latitude start_station_longitude end_station_id  \\\n",
       "1680225                37.7923                -122.397           1547   \n",
       "886457                 37.7633                -122.422           2572   \n",
       "\n",
       "                      end_station_name end_station_latitude  ...   user_type  \\\n",
       "1680225  The Embarcadero at Steuart St              37.7915  ...  Subscriber   \n",
       "886457              Jackson Playground               37.765  ...    Customer   \n",
       "\n",
       "        member_birth_year member_gender  bike_share_for_all_trip  \\\n",
       "1680225            1983.0          Male                      Yes   \n",
       "886457             1994.0        Female                       No   \n",
       "\n",
       "        start_time_month start_time_day  start_time_hour  start_day_name  \\\n",
       "1680225               10             12                9             Fri   \n",
       "886457                 7             21               15             Sat   \n",
       "\n",
       "         start_month_name member_age  \n",
       "1680225           October       37.0  \n",
       "886457               July       26.0  \n",
       "\n",
       "[2 rows x 22 columns]"
      ]
     },
     "execution_count": 16,
     "metadata": {},
     "output_type": "execute_result"
    }
   ],
   "source": [
    "#I will look at two sample rows to check how the age is calculated and how the data was divided\n",
    "df_final.sample(2)"
   ]
  },
  {
   "cell_type": "markdown",
   "metadata": {},
   "source": [
    "> One more step before starting the analysis phase, since we are going to be deadling with members age, we need to check if we have outliers, so we don't mess up the visualizations that are concerned with the main target audience. I will first check the mean of the age, double that number, and assume that all members with age more than double the average are outliers. "
   ]
  },
  {
   "cell_type": "code",
   "execution_count": 17,
   "metadata": {},
   "outputs": [
    {
     "data": {
      "text/plain": [
       "36.8721519208502"
      ]
     },
     "execution_count": 17,
     "metadata": {},
     "output_type": "execute_result"
    }
   ],
   "source": [
    "df_final['member_age'].mean()"
   ]
  },
  {
   "cell_type": "code",
   "execution_count": 18,
   "metadata": {},
   "outputs": [
    {
     "data": {
      "text/html": [
       "<div>\n",
       "<style scoped>\n",
       "    .dataframe tbody tr th:only-of-type {\n",
       "        vertical-align: middle;\n",
       "    }\n",
       "\n",
       "    .dataframe tbody tr th {\n",
       "        vertical-align: top;\n",
       "    }\n",
       "\n",
       "    .dataframe thead th {\n",
       "        text-align: right;\n",
       "    }\n",
       "</style>\n",
       "<table border=\"1\" class=\"dataframe\">\n",
       "  <thead>\n",
       "    <tr style=\"text-align: right;\">\n",
       "      <th></th>\n",
       "      <th>member_age</th>\n",
       "    </tr>\n",
       "  </thead>\n",
       "  <tbody>\n",
       "    <tr>\n",
       "      <th>22</th>\n",
       "      <td>75.0</td>\n",
       "    </tr>\n",
       "    <tr>\n",
       "      <th>93</th>\n",
       "      <td>109.0</td>\n",
       "    </tr>\n",
       "    <tr>\n",
       "      <th>298</th>\n",
       "      <td>77.0</td>\n",
       "    </tr>\n",
       "    <tr>\n",
       "      <th>622</th>\n",
       "      <td>84.0</td>\n",
       "    </tr>\n",
       "    <tr>\n",
       "      <th>1042</th>\n",
       "      <td>71.0</td>\n",
       "    </tr>\n",
       "    <tr>\n",
       "      <th>...</th>\n",
       "      <td>...</td>\n",
       "    </tr>\n",
       "    <tr>\n",
       "      <th>2022952</th>\n",
       "      <td>72.0</td>\n",
       "    </tr>\n",
       "    <tr>\n",
       "      <th>2022963</th>\n",
       "      <td>120.0</td>\n",
       "    </tr>\n",
       "    <tr>\n",
       "      <th>2022977</th>\n",
       "      <td>73.0</td>\n",
       "    </tr>\n",
       "    <tr>\n",
       "      <th>2023050</th>\n",
       "      <td>72.0</td>\n",
       "    </tr>\n",
       "    <tr>\n",
       "      <th>2023208</th>\n",
       "      <td>75.0</td>\n",
       "    </tr>\n",
       "  </tbody>\n",
       "</table>\n",
       "<p>9887 rows × 1 columns</p>\n",
       "</div>"
      ],
      "text/plain": [
       "         member_age\n",
       "22             75.0\n",
       "93            109.0\n",
       "298            77.0\n",
       "622            84.0\n",
       "1042           71.0\n",
       "...             ...\n",
       "2022952        72.0\n",
       "2022963       120.0\n",
       "2022977        73.0\n",
       "2023050        72.0\n",
       "2023208        75.0\n",
       "\n",
       "[9887 rows x 1 columns]"
      ]
     },
     "execution_count": 18,
     "metadata": {},
     "output_type": "execute_result"
    }
   ],
   "source": [
    "#The age mean is 36, let's check if we have inputs with users more than double the mean, which is 70\n",
    "df_final.loc[df_final.member_age> 70 , ['member_age']]\n",
    "#There are 9887 values that we are going to drop to reduce the size of data \n",
    "#(small percentage from dataset, which means they can be considered as outliers)"
   ]
  },
  {
   "cell_type": "code",
   "execution_count": 19,
   "metadata": {},
   "outputs": [],
   "source": [
    "#Dropping the outliers\n",
    "to_drop = df_final[df_final.member_age >70].index.tolist()\n",
    "df_final.drop(to_drop,axis = 0, inplace=True)\n",
    "df_final.reset_index(inplace=True, drop=True)"
   ]
  },
  {
   "cell_type": "code",
   "execution_count": 20,
   "metadata": {},
   "outputs": [
    {
     "name": "stdout",
     "output_type": "stream",
     "text": [
      "<class 'pandas.core.frame.DataFrame'>\n",
      "RangeIndex: 1878886 entries, 0 to 1878885\n",
      "Data columns (total 22 columns):\n",
      " #   Column                   Dtype         \n",
      "---  ------                   -----         \n",
      " 0   duration_sec             float64       \n",
      " 1   start_time               datetime64[ns]\n",
      " 2   end_time                 datetime64[ns]\n",
      " 3   start_station_id         object        \n",
      " 4   start_station_name       object        \n",
      " 5   start_station_latitude   object        \n",
      " 6   start_station_longitude  object        \n",
      " 7   end_station_id           object        \n",
      " 8   end_station_name         object        \n",
      " 9   end_station_latitude     object        \n",
      " 10  end_station_longitude    float64       \n",
      " 11  bike_id                  object        \n",
      " 12  user_type                category      \n",
      " 13  member_birth_year        float64       \n",
      " 14  member_gender            category      \n",
      " 15  bike_share_for_all_trip  object        \n",
      " 16  start_time_month         int32         \n",
      " 17  start_time_day           int32         \n",
      " 18  start_time_hour          int64         \n",
      " 19  start_day_name           object        \n",
      " 20  start_month_name         object        \n",
      " 21  member_age               float64       \n",
      "dtypes: category(2), datetime64[ns](2), float64(4), int32(2), int64(1), object(11)\n",
      "memory usage: 275.9+ MB\n"
     ]
    }
   ],
   "source": [
    "df_final.info()"
   ]
  },
  {
   "cell_type": "code",
   "execution_count": 21,
   "metadata": {},
   "outputs": [],
   "source": [
    "## Data Analysis and Exploration"
   ]
  },
  {
   "cell_type": "markdown",
   "metadata": {},
   "source": [
    "Throughout the data wrangling process, the different columns and entries in the dataset were assessed and cleaned, and now it's time to answer some research questions.\n",
    "* What's the monthly trend throughout 2018? Which seasons/months were the most trips taken?\n",
    "* What's the ratio of subscribers to customers?\n",
    "    * What's the average trip duration for each?\n",
    "    * What's the weekly trend for each? Do they use the bike sharing system during weekdays or weekend?\n",
    "    * What's the hourly trend for each? Do most of the trips happen in the day or in the evening? What does that say about the objective of bike usage for each group?\n",
    "    * What's the split of genders for the users in each group (subscribers and customers)?\n",
    "* How does the distribution of number of trips completed by age group look like?"
   ]
  },
  {
   "cell_type": "markdown",
   "metadata": {},
   "source": [
    "## Univariate Exploration"
   ]
  },
  {
   "cell_type": "markdown",
   "metadata": {},
   "source": [
    "###  Exploring Monthly trends"
   ]
  },
  {
   "cell_type": "code",
   "execution_count": 22,
   "metadata": {},
   "outputs": [
    {
     "data": {
      "image/png": "[encoded data removed]",
      "text/plain": [
       "<Figure size 360x360 with 1 Axes>"
      ]
     },
     "metadata": {
      "needs_background": "light"
     },
     "output_type": "display_data"
    }
   ],
   "source": [
    "# Let's first investigate what's the distribution of number of trips completed looks like in 2018 throughout the months.\n",
    "ax = sb.catplot(data=df_final, x='start_time_month', kind='count', color='orange')\n",
    "ax.set_axis_labels(\"Month\", \"#Bike Trips\")\n",
    "ax.fig.suptitle('Number of trips completed Monthly', y=1.03, fontsize=13, fontweight='light');"
   ]
  },
  {
   "cell_type": "markdown",
   "metadata": {},
   "source": [
    "It seems that, in 2018, during the month of july, there is a spike in demand for bike sharing. \n",
    "Other months like May, June, and August also have higher demand than usual, this might be associated to the summer season where the weather is better and more convenient to user the bike as opposed to the winter where it might be windy, cold or even raining. "
   ]
  },
  {
   "cell_type": "markdown",
   "metadata": {},
   "source": [
    "### Split of Users - Susbcribers vs Customers"
   ]
  },
  {
   "cell_type": "code",
   "execution_count": 23,
   "metadata": {},
   "outputs": [],
   "source": [
    "# First, we need to calculate the percentage of users for each type from the total\n",
    "# we use the query and count functions to get the number of subscribers an customers\n",
    "subscriber_count = df_final.query('user_type == \"Subscriber\"')['bike_id'].count()\n",
    "customer_count = df_final.query('user_type == \"Customer\"')['bike_id'].count()\n",
    "\n",
    "# Then, we divide by the total count of bikes to get the percentage\n",
    "subscriber_percentage = subscriber_count / df_final['bike_id'].count()\n",
    "customer_percentage = customer_count / df_final['bike_id'].count()"
   ]
  },
  {
   "cell_type": "code",
   "execution_count": 24,
   "metadata": {
    "scrolled": true
   },
   "outputs": [
    {
     "data": {
      "image/png": "[encoded data removed]",
      "text/plain": [
       "<Figure size 432x288 with 1 Axes>"
      ]
     },
     "metadata": {},
     "output_type": "display_data"
    }
   ],
   "source": [
    "# we can now plot the numbers in a pie chart to visualize the split of all users to each type\n",
    "plt.subplot(1, 2, 2)\n",
    "\n",
    "labels = ['Customer', 'Subscriber']\n",
    "sizes = [customer_percentage, subscriber_percentage]\n",
    "explode = (0, 0.1)\n",
    "\n",
    "plt.pie(sizes, explode=explode, labels=labels, colors = ['orange', 'lightblue'],\n",
    "        autopct='%1.0f%%', shadow=False, startangle=45)\n",
    "plt.axis('equal')\n",
    "\n",
    "plt.suptitle('Type of users Split', y=1.03, fontsize=15, fontweight='light');"
   ]
  },
  {
   "cell_type": "markdown",
   "metadata": {},
   "source": [
    "### Age Groups using the bike system"
   ]
  },
  {
   "cell_type": "code",
   "execution_count": 25,
   "metadata": {},
   "outputs": [],
   "source": [
    "#ww create a new column that would classify each user to the convenient age group based on member_age column\n",
    "df_final['age_group'] = df_final['member_age'].apply(lambda x: '10 - 20' if 10<x<=20\n",
    "                                                  else '20 - 30' if 20<x<=30\n",
    "                                                  else '30 - 40' if 30<x<=40\n",
    "                                                  else '40 - 50' if 40<x<=50\n",
    "                                                  else '50 - 60' if 50<x<=60\n",
    "                                                  else '60 - 70' if 60<x<=70\n",
    "                                                  else x)"
   ]
  },
  {
   "cell_type": "code",
   "execution_count": 26,
   "metadata": {},
   "outputs": [],
   "source": [
    "age_group= df_final.groupby('age_group').agg({'bike_id':'count'})"
   ]
  },
  {
   "cell_type": "code",
   "execution_count": 27,
   "metadata": {},
   "outputs": [],
   "source": [
    "age_group['percentage'] = (age_group['bike_id']/age_group['bike_id'].sum())*100"
   ]
  },
  {
   "cell_type": "code",
   "execution_count": 28,
   "metadata": {},
   "outputs": [
    {
     "data": {
      "text/html": [
       "<div>\n",
       "<style scoped>\n",
       "    .dataframe tbody tr th:only-of-type {\n",
       "        vertical-align: middle;\n",
       "    }\n",
       "\n",
       "    .dataframe tbody tr th {\n",
       "        vertical-align: top;\n",
       "    }\n",
       "\n",
       "    .dataframe thead th {\n",
       "        text-align: right;\n",
       "    }\n",
       "</style>\n",
       "<table border=\"1\" class=\"dataframe\">\n",
       "  <thead>\n",
       "    <tr style=\"text-align: right;\">\n",
       "      <th></th>\n",
       "      <th>bike_id</th>\n",
       "      <th>percentage</th>\n",
       "    </tr>\n",
       "    <tr>\n",
       "      <th>age_group</th>\n",
       "      <th></th>\n",
       "      <th></th>\n",
       "    </tr>\n",
       "  </thead>\n",
       "  <tbody>\n",
       "    <tr>\n",
       "      <th>10 - 20</th>\n",
       "      <td>5702</td>\n",
       "      <td>0.303478</td>\n",
       "    </tr>\n",
       "    <tr>\n",
       "      <th>20 - 30</th>\n",
       "      <td>560222</td>\n",
       "      <td>29.816711</td>\n",
       "    </tr>\n",
       "    <tr>\n",
       "      <th>30 - 40</th>\n",
       "      <td>782161</td>\n",
       "      <td>41.628976</td>\n",
       "    </tr>\n",
       "    <tr>\n",
       "      <th>40 - 50</th>\n",
       "      <td>317262</td>\n",
       "      <td>16.885644</td>\n",
       "    </tr>\n",
       "    <tr>\n",
       "      <th>50 - 60</th>\n",
       "      <td>165569</td>\n",
       "      <td>8.812083</td>\n",
       "    </tr>\n",
       "    <tr>\n",
       "      <th>60 - 70</th>\n",
       "      <td>47970</td>\n",
       "      <td>2.553109</td>\n",
       "    </tr>\n",
       "  </tbody>\n",
       "</table>\n",
       "</div>"
      ],
      "text/plain": [
       "           bike_id  percentage\n",
       "age_group                     \n",
       "10 - 20       5702    0.303478\n",
       "20 - 30     560222   29.816711\n",
       "30 - 40     782161   41.628976\n",
       "40 - 50     317262   16.885644\n",
       "50 - 60     165569    8.812083\n",
       "60 - 70      47970    2.553109"
      ]
     },
     "execution_count": 28,
     "metadata": {},
     "output_type": "execute_result"
    }
   ],
   "source": [
    "#checking the resulting data\n",
    "age_group"
   ]
  },
  {
   "cell_type": "code",
   "execution_count": 29,
   "metadata": {
    "scrolled": true
   },
   "outputs": [
    {
     "data": {
      "image/png": "[encoded data removed]",
      "text/plain": [
       "<Figure size 360x360 with 1 Axes>"
      ]
     },
     "metadata": {
      "needs_background": "light"
     },
     "output_type": "display_data"
    }
   ],
   "source": [
    "#now we plot the percentage of the contribution of each age group to the overall trips\n",
    "age_group['percentage'].plot(kind='bar', color=['green', 'brown', 'red', 'lightblue', 'orange','purple'], figsize=(5,5))\n",
    "plt.title('Split of Age Group Contribution to Trip Completion', fontsize=15, y=1.03,fontweight='light')\n",
    "plt.xlabel('Age Group', labelpad=13)\n",
    "plt.xticks(rotation=0)\n",
    "plt.ylabel('Contribution %', labelpad=13);"
   ]
  },
  {
   "cell_type": "markdown",
   "metadata": {},
   "source": [
    "From the chart above, it seems that most users are thirty to forty years of age. The second most common age group that uses the bikes are 20-30 years old.\n",
    "It might be useful to look at the trend by month to get a feel of the behavior of each group throughout the different months of the year"
   ]
  },
  {
   "cell_type": "markdown",
   "metadata": {},
   "source": [
    "### Monthly Behavior of each Age Group"
   ]
  },
  {
   "cell_type": "code",
   "execution_count": 30,
   "metadata": {},
   "outputs": [
    {
     "data": {
      "text/html": [
       "<div>\n",
       "<style scoped>\n",
       "    .dataframe tbody tr th:only-of-type {\n",
       "        vertical-align: middle;\n",
       "    }\n",
       "\n",
       "    .dataframe tbody tr th {\n",
       "        vertical-align: top;\n",
       "    }\n",
       "\n",
       "    .dataframe thead th {\n",
       "        text-align: right;\n",
       "    }\n",
       "</style>\n",
       "<table border=\"1\" class=\"dataframe\">\n",
       "  <thead>\n",
       "    <tr style=\"text-align: right;\">\n",
       "      <th></th>\n",
       "      <th>start_time_month</th>\n",
       "      <th>age_group</th>\n",
       "      <th>bike_id</th>\n",
       "    </tr>\n",
       "  </thead>\n",
       "  <tbody>\n",
       "    <tr>\n",
       "      <th>0</th>\n",
       "      <td>1</td>\n",
       "      <td>10 - 20</td>\n",
       "      <td>2</td>\n",
       "    </tr>\n",
       "    <tr>\n",
       "      <th>1</th>\n",
       "      <td>1</td>\n",
       "      <td>20 - 30</td>\n",
       "      <td>1988</td>\n",
       "    </tr>\n",
       "    <tr>\n",
       "      <th>2</th>\n",
       "      <td>1</td>\n",
       "      <td>30 - 40</td>\n",
       "      <td>2883</td>\n",
       "    </tr>\n",
       "    <tr>\n",
       "      <th>3</th>\n",
       "      <td>1</td>\n",
       "      <td>40 - 50</td>\n",
       "      <td>842</td>\n",
       "    </tr>\n",
       "    <tr>\n",
       "      <th>4</th>\n",
       "      <td>1</td>\n",
       "      <td>50 - 60</td>\n",
       "      <td>458</td>\n",
       "    </tr>\n",
       "    <tr>\n",
       "      <th>...</th>\n",
       "      <td>...</td>\n",
       "      <td>...</td>\n",
       "      <td>...</td>\n",
       "    </tr>\n",
       "    <tr>\n",
       "      <th>67</th>\n",
       "      <td>12</td>\n",
       "      <td>20 - 30</td>\n",
       "      <td>4922</td>\n",
       "    </tr>\n",
       "    <tr>\n",
       "      <th>68</th>\n",
       "      <td>12</td>\n",
       "      <td>30 - 40</td>\n",
       "      <td>5495</td>\n",
       "    </tr>\n",
       "    <tr>\n",
       "      <th>69</th>\n",
       "      <td>12</td>\n",
       "      <td>40 - 50</td>\n",
       "      <td>1903</td>\n",
       "    </tr>\n",
       "    <tr>\n",
       "      <th>70</th>\n",
       "      <td>12</td>\n",
       "      <td>50 - 60</td>\n",
       "      <td>972</td>\n",
       "    </tr>\n",
       "    <tr>\n",
       "      <th>71</th>\n",
       "      <td>12</td>\n",
       "      <td>60 - 70</td>\n",
       "      <td>164</td>\n",
       "    </tr>\n",
       "  </tbody>\n",
       "</table>\n",
       "<p>72 rows × 3 columns</p>\n",
       "</div>"
      ],
      "text/plain": [
       "    start_time_month age_group  bike_id\n",
       "0                  1   10 - 20        2\n",
       "1                  1   20 - 30     1988\n",
       "2                  1   30 - 40     2883\n",
       "3                  1   40 - 50      842\n",
       "4                  1   50 - 60      458\n",
       "..               ...       ...      ...\n",
       "67                12   20 - 30     4922\n",
       "68                12   30 - 40     5495\n",
       "69                12   40 - 50     1903\n",
       "70                12   50 - 60      972\n",
       "71                12   60 - 70      164\n",
       "\n",
       "[72 rows x 3 columns]"
      ]
     },
     "execution_count": 30,
     "metadata": {},
     "output_type": "execute_result"
    }
   ],
   "source": [
    "customer_df = df_final[df_final['user_type']=='Customer'].groupby(['start_time_month', 'age_group']).agg({'bike_id':'count'}).reset_index()\n",
    "customer_df"
   ]
  },
  {
   "cell_type": "code",
   "execution_count": 31,
   "metadata": {},
   "outputs": [
    {
     "data": {
      "image/png": "[encoded data removed]",
      "text/plain": [
       "<Figure size 1152x576 with 1 Axes>"
      ]
     },
     "metadata": {
      "needs_background": "light"
     },
     "output_type": "display_data"
    }
   ],
   "source": [
    "plt.figure(figsize=(16,8))\n",
    "ax = sb.pointplot(x='start_time_month', y='bike_id', hue='age_group', scale=.4, data=customer_df)\n",
    "plt.title(\"Monthly Behavior by Age Group\", fontsize=15, y=1.02,fontweight='light')\n",
    "plt.xlabel('Month', labelpad=10)\n",
    "plt.ylabel('Trips', labelpad=10)\n",
    "leg = ax.legend()\n",
    "leg.set_title('Member Age Group',prop={'size':12})"
   ]
  },
  {
   "cell_type": "markdown",
   "metadata": {},
   "source": [
    "From the above visual, it seems that the behavior of the two most common age groups 30-40 and 20-30 are quite similar. \n",
    "The frequency of using the system increases significanty during the month of July. As mentioned before, this can be assumed to be due to seasonality, however, we need to look at the hourly rates of using the bikes throughout the day to link them to working hours and other factors. "
   ]
  },
  {
   "cell_type": "markdown",
   "metadata": {},
   "source": [
    "### Discuss the distribution(s) of your variable(s) of interest. Were there any unusual points? Did you need to perform any transformations?\n",
    "\n",
    "> In this section, we explored the behavior throughout the months of all users, and we had a closer look at this behavior split by age group. We also looked at the average duration of trips by age group, and the split of users between subscribers and customers.\n",
    "\n",
    "### Of the features you investigated, were there any unusual distributions? Did you perform any operations on the data to tidy, adjust, or change the form of the data? If so, why did you do this?\n",
    "\n",
    "> Most of the data editing was performed before the analysis. For instance, we had to calculate the members age using the year of birth, we also had to put them in age groups. "
   ]
  },
  {
   "cell_type": "markdown",
   "metadata": {},
   "source": [
    "## Bivariate Exploration\n",
    "\n",
    "> In this section, we will further investigate the data by analyzing pairs of variables and comparing their results."
   ]
  },
  {
   "cell_type": "code",
   "execution_count": 32,
   "metadata": {
    "scrolled": true
   },
   "outputs": [
    {
     "data": {
      "image/png": "[encoded data removed]",
      "text/plain": [
       "<Figure size 576x360 with 1 Axes>"
      ]
     },
     "metadata": {
      "needs_background": "light"
     },
     "output_type": "display_data"
    }
   ],
   "source": [
    "## Diving deeper into each type's consumer behavior, let's see the average duration of the trips completed by each user category\n",
    "df_final['duration_minutes'] = df_final['duration_sec']/60\n",
    "new_color=['darkorange', 'lightblue']\n",
    "ax = df_final.groupby('user_type')['duration_minutes'].mean().plot(kind='barh', color=new_color, figsize=(8,5))\n",
    "ax.set_title('Average trip duration by user type', fontsize=13, y=1.02,fontweight='light')\n",
    "ax.set_ylabel('User Type', labelpad=15)\n",
    "ax.set_xlabel('Trip Duration in Minutes', labelpad=15);"
   ]
  },
  {
   "cell_type": "markdown",
   "metadata": {},
   "source": [
    "It seems that a subscriber would spend a little bit over an average of 10 minutes on the bike, while a customer would spend more than 25 minutes. \n",
    "This might mean that subscribers would mostly use this service to commute to work and back, while customers just enjoy a good portion of their day out on the bike for leisure purposes. This can be further explored in the more-in-depth analysis down below."
   ]
  },
  {
   "cell_type": "markdown",
   "metadata": {},
   "source": [
    "### Distribution of trips throughout the week"
   ]
  },
  {
   "cell_type": "code",
   "execution_count": 33,
   "metadata": {},
   "outputs": [
    {
     "data": {
      "image/png": "[encoded data removed]",
      "text/plain": [
       "<Figure size 720x360 with 2 Axes>"
      ]
     },
     "metadata": {
      "needs_background": "light"
     },
     "output_type": "display_data"
    }
   ],
   "source": [
    "days = ['Mon', 'Tue', 'Wed', 'Thu', 'Fri', 'Sat', 'Sun']\n",
    "g = sb.catplot(data=df_final, x='start_day_name', col=\"user_type\", kind='count', sharey = False,\n",
    "            color = 'lightblue', order = days)\n",
    "g.set_axis_labels(\"Day of Week\", \"Number od Trips\")\n",
    "g.set_titles(\"{col_name}\")\n",
    "g.fig.suptitle('Weekly Number of Trips', y=1, fontsize=12, fontweight='light');"
   ]
  },
  {
   "cell_type": "markdown",
   "metadata": {},
   "source": [
    "As expected, subscribers use the service on weekdays more than weekends, while customers use the bikes on weekends the most. Which, again, supports the assumption made earlier that users subscribe to this service to use it to commute to work. However, in order to ensure we are making an informed assumption, let's look at the exact hours during which members and customers would take their rides."
   ]
  },
  {
   "cell_type": "code",
   "execution_count": 34,
   "metadata": {},
   "outputs": [
    {
     "data": {
      "image/png": "[encoded data removed]",
      "text/plain": [
       "<Figure size 720x360 with 2 Axes>"
      ]
     },
     "metadata": {
      "needs_background": "light"
     },
     "output_type": "display_data"
    }
   ],
   "source": [
    "g = sb.catplot(data=df_final, x='start_time_hour', col=\"user_type\", kind='count', sharey = False,\n",
    "            color = 'darkorange')\n",
    "g.set_axis_labels(\"Hour\", \"Bike Rides\")\n",
    "g.set_titles(\"{col_name}\")\n",
    "g.fig.suptitle('User Type Hourly Usage', y=1, fontsize=12, fontweight='light');"
   ]
  },
  {
   "cell_type": "markdown",
   "metadata": {},
   "source": [
    "Again, the above charts support the assumption we have been discussing, because apparently subscribers use their bikes the most from 7AM-9AM and then again from 5PM-7PM. These are mostly the rush hours for employees to go to and back from work. \n",
    "Customers, however, either use the bikes during the day (and we have previsouly seen how they mostly use it during weekends) for leisure purposes, or use them post working hours (starting 6pm)"
   ]
  },
  {
   "cell_type": "markdown",
   "metadata": {},
   "source": [
    "### Talk about some of the relationships you observed in this part of the investigation. How did the feature(s) of interest vary with other features in the dataset?\n",
    "\n",
    "> In this section, we were mostly trying to dive deeper in the behavior of each user type. We started by calculating the average trip duration to get a feel of how much time each type spends on the bike. Then, we further explored the days of the week, as well as the time of the day, where most trips take place.\n",
    "\n",
    "> As a general conclusion, it's safe to say that people who subscribe to this service would usually take it as a way to commute to and from work, while others just use it for Leisure purposes on weekends and post the working hours."
   ]
  },
  {
   "cell_type": "markdown",
   "metadata": {},
   "source": [
    "## Multivariate Exploration\n",
    "\n",
    "> In this section, we are going to look at the gender split for bike users. "
   ]
  },
  {
   "cell_type": "code",
   "execution_count": 35,
   "metadata": {
    "scrolled": true
   },
   "outputs": [
    {
     "data": {
      "image/png": "[encoded data removed]",
      "text/plain": [
       "<Figure size 1008x720 with 1 Axes>"
      ]
     },
     "metadata": {
      "needs_background": "light"
     },
     "output_type": "display_data"
    }
   ],
   "source": [
    "#we start by checking the number of trips completed by each gender, in both user types. \n",
    "plt.figure(figsize = [14, 10])\n",
    "\n",
    "# code for the bar chart\n",
    "plt.subplot(1, 2, 1)\n",
    "\n",
    "g = sb.countplot(data=df_final, x=\"user_type\", hue=\"member_gender\", order=df_final.user_type.value_counts().index)\n",
    "g.set_xlabel('User Type')\n",
    "g.set_ylabel('#Bike Trips')\n",
    "g.set_title('Bike Rides by Gender', y=1.02, fontsize=13, fontweight='light');"
   ]
  },
  {
   "cell_type": "markdown",
   "metadata": {},
   "source": [
    "From the charts dealing with the gender split, it seems that the males are dominating both the subscribers and the customers portions of the user types. We might need further analysis to investigate why this is the case but an initial assumption can be made, linking all observations to each other, claiming that the males might be dominating the working class. Which would make sense given that they have the highest contribution in trips completed by subscribers, which were proven to be using the bikes to commute to work. "
   ]
  },
  {
   "cell_type": "code",
   "execution_count": 36,
   "metadata": {
    "scrolled": false
   },
   "outputs": [
    {
     "data": {
      "image/png": "[encoded data removed]",
      "text/plain": [
       "<Figure size 810.375x360 with 2 Axes>"
      ]
     },
     "metadata": {
      "needs_background": "light"
     },
     "output_type": "display_data"
    }
   ],
   "source": [
    "#Cheking the behavior of each gender throughout the months of 2018 by user type\n",
    "g = sb.catplot(data=df_final, x='start_time_month', col=\"user_type\", hue=\"member_gender\", kind='count', sharey = False)\n",
    "g.set_axis_labels(\"Month\", \"#Bike Trips\")\n",
    "g._legend.set_title('Gender')\n",
    "g.set_titles(\"{col_name}\")\n",
    "g.fig.suptitle('Monthly Bike Trends by user type and gender', y=1.02, fontsize=13, fontweight='light');"
   ]
  },
  {
   "cell_type": "markdown",
   "metadata": {},
   "source": [
    "It seems that for both customers and subscribers, all genders have similar trends throughout the year. Given our initial assumption that this depends on the seasonality, where summer months are the months where most of the trips take place, seeing similar trends across genders makes sense as the weather has nothing to do with the gender of the user."
   ]
  },
  {
   "cell_type": "markdown",
   "metadata": {},
   "source": [
    "### Talk about some of the relationships you observed in this part of the investigation. Were there features that strengthened each other in terms of looking at your feature(s) of interest?\n",
    "\n",
    "> In this part, we split the user types into genders to check if there is any assumptions or conclusions that can be drawn of the behavior of each from the data. It seems however that all genders have similar trends whether they are subscribers or customers. However, there were interesting findings regarding the gender split in general. \n",
    "\n",
    "### Were there any interesting or surprising interactions between features?\n",
    "\n",
    "> I was surprised to see that males dominate the subsribers category of the user, which was proven earlier to mostly use the service to commute to work. This might give us an insight that males dominate the working class. This is a general assumption, however, that I recommend to be proven using deeper analysis including more factors to be able to reach a final conclusion in this topic."
   ]
  },
  {
   "cell_type": "code",
   "execution_count": 37,
   "metadata": {},
   "outputs": [],
   "source": [
    "## df_final.to_csv('df_final.csv',encoding='utf-8',index=False)"
   ]
  },
  {
   "cell_type": "code",
   "execution_count": 38,
   "metadata": {},
   "outputs": [
    {
     "name": "stdout",
     "output_type": "stream",
     "text": [
      "<class 'pandas.core.frame.DataFrame'>\n",
      "RangeIndex: 1878886 entries, 0 to 1878885\n",
      "Data columns (total 24 columns):\n",
      " #   Column                   Dtype         \n",
      "---  ------                   -----         \n",
      " 0   duration_sec             float64       \n",
      " 1   start_time               datetime64[ns]\n",
      " 2   end_time                 datetime64[ns]\n",
      " 3   start_station_id         object        \n",
      " 4   start_station_name       object        \n",
      " 5   start_station_latitude   object        \n",
      " 6   start_station_longitude  object        \n",
      " 7   end_station_id           object        \n",
      " 8   end_station_name         object        \n",
      " 9   end_station_latitude     object        \n",
      " 10  end_station_longitude    float64       \n",
      " 11  bike_id                  object        \n",
      " 12  user_type                category      \n",
      " 13  member_birth_year        float64       \n",
      " 14  member_gender            category      \n",
      " 15  bike_share_for_all_trip  object        \n",
      " 16  start_time_month         int32         \n",
      " 17  start_time_day           int32         \n",
      " 18  start_time_hour          int64         \n",
      " 19  start_day_name           object        \n",
      " 20  start_month_name         object        \n",
      " 21  member_age               float64       \n",
      " 22  age_group                object        \n",
      " 23  duration_minutes         float64       \n",
      "dtypes: category(2), datetime64[ns](2), float64(5), int32(2), int64(1), object(12)\n",
      "memory usage: 304.6+ MB\n"
     ]
    }
   ],
   "source": [
    "df_final.info()"
   ]
  }
 ],
 "metadata": {
  "kernelspec": {
   "display_name": "Python 3",
   "language": "python",
   "name": "python3"
  },
  "language_info": {
   "codemirror_mode": {
    "name": "ipython",
    "version": 3
   },
   "file_extension": ".py",
   "mimetype": "text/x-python",
   "name": "python",
   "nbconvert_exporter": "python",
   "pygments_lexer": "ipython3",
   "version": "3.8.3"
  }
 },
 "nbformat": 4,
 "nbformat_minor": 2
}
